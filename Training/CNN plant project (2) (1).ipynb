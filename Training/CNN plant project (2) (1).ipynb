{
 "cells": [
  {
   "cell_type": "markdown",
   "metadata": {},
   "source": [
    "# WILD PLANT EDIBILITY PREDICTION"
   ]
  },
  {
   "cell_type": "markdown",
   "metadata": {},
   "source": [
    "### Importing all the required libraries"
   ]
  },
  {
   "cell_type": "code",
   "execution_count": 4,
   "metadata": {},
   "outputs": [],
   "source": [
    "from tensorflow.keras.models import Sequential\n",
    "from tensorflow.keras.layers import Dense, Convolution2D,MaxPooling2D,Flatten\n",
    "from tensorflow.keras.preprocessing .image import ImageDataGenerator\n",
    "from tensorflow.keras.models import load_model\n",
    "from tensorflow.keras.preprocessing  import image\n",
    "import numpy as np"
   ]
  },
  {
   "cell_type": "markdown",
   "metadata": {},
   "source": [
    "### Image Preprocessing using ImageDataGenerator library"
   ]
  },
  {
   "cell_type": "code",
   "execution_count": 5,
   "metadata": {},
   "outputs": [],
   "source": [
    "train_datagen = ImageDataGenerator(rescale = 1./255,shear_range = 0.2,zoom_range = 0.2,horizontal_flip = True, rotation_range=180)\n",
    "test_datagen = ImageDataGenerator(rescale = 1./255)"
   ]
  },
  {
   "cell_type": "code",
   "execution_count": 6,
   "metadata": {},
   "outputs": [
    {
     "name": "stdout",
     "output_type": "stream",
     "text": [
      "Found 423 images belonging to 6 classes.\n",
      "Found 143 images belonging to 6 classes.\n"
     ]
    }
   ],
   "source": [
    "x_train = train_datagen.flow_from_directory(r'C:\\SmartBridge\\train_set',target_size = (64,64),batch_size = 32,class_mode = \"categorical\")\n",
    "x_test = test_datagen.flow_from_directory(r'C:\\SmartBridge\\test_set',target_size = (64,64),batch_size = 32,class_mode = \"categorical\")"
   ]
  },
  {
   "cell_type": "markdown",
   "metadata": {},
   "source": [
    "### Assigning index to each class"
   ]
  },
  {
   "cell_type": "code",
   "execution_count": 7,
   "metadata": {},
   "outputs": [
    {
     "data": {
      "text/plain": [
       "{'Asparagus_edible': 0,\n",
       " 'Blue Vervain_edible': 1,\n",
       " 'Cattail_edible': 2,\n",
       " 'Chicory_edible_non edible': 3,\n",
       " 'Fireweed_edible_non edible': 4,\n",
       " 'green castor bean_non edible': 5}"
      ]
     },
     "execution_count": 7,
     "metadata": {},
     "output_type": "execute_result"
    }
   ],
   "source": [
    "x_train.class_indices"
   ]
  },
  {
   "cell_type": "markdown",
   "metadata": {},
   "source": [
    "### Building the model"
   ]
  },
  {
   "cell_type": "code",
   "execution_count": 8,
   "metadata": {},
   "outputs": [],
   "source": [
    "model = Sequential()"
   ]
  },
  {
   "cell_type": "code",
   "execution_count": 9,
   "metadata": {},
   "outputs": [
    {
     "name": "stdout",
     "output_type": "stream",
     "text": [
      "WARNING:tensorflow:From C:\\Users\\Yash\\Anaconda3\\lib\\site-packages\\tensorflow\\python\\ops\\init_ops.py:1251: calling VarianceScaling.__init__ (from tensorflow.python.ops.init_ops) with dtype is deprecated and will be removed in a future version.\n",
      "Instructions for updating:\n",
      "Call initializer instance with the dtype argument instead of passing it to the constructor\n"
     ]
    }
   ],
   "source": [
    "model.add(Convolution2D(32,(3,3),input_shape = (64,64,3)))"
   ]
  },
  {
   "cell_type": "code",
   "execution_count": 10,
   "metadata": {},
   "outputs": [],
   "source": [
    "model.add(MaxPooling2D((2,2)))"
   ]
  },
  {
   "cell_type": "code",
   "execution_count": 11,
   "metadata": {},
   "outputs": [],
   "source": [
    "model.add(Flatten())"
   ]
  },
  {
   "cell_type": "code",
   "execution_count": 12,
   "metadata": {},
   "outputs": [
    {
     "name": "stdout",
     "output_type": "stream",
     "text": [
      "WARNING:tensorflow:From C:\\Users\\Yash\\Anaconda3\\lib\\site-packages\\tensorflow\\python\\keras\\initializers.py:119: calling RandomUniform.__init__ (from tensorflow.python.ops.init_ops) with dtype is deprecated and will be removed in a future version.\n",
      "Instructions for updating:\n",
      "Call initializer instance with the dtype argument instead of passing it to the constructor\n"
     ]
    }
   ],
   "source": [
    "model.add(Dense(units = 1024, kernel_initializer= \"random_uniform\",activation = \"relu\"))"
   ]
  },
  {
   "cell_type": "code",
   "execution_count": 13,
   "metadata": {},
   "outputs": [],
   "source": [
    "model.add(Dense(activation='relu',kernel_initializer='uniform',units=512))"
   ]
  },
  {
   "cell_type": "code",
   "execution_count": 14,
   "metadata": {},
   "outputs": [],
   "source": [
    "model.add(Dense(activation='relu',kernel_initializer='uniform',units=512))"
   ]
  },
  {
   "cell_type": "code",
   "execution_count": 15,
   "metadata": {},
   "outputs": [],
   "source": [
    "model.add(Dense(units = 6 , kernel_initializer= \"random_uniform\",activation = \"softmax\"))"
   ]
  },
  {
   "cell_type": "markdown",
   "metadata": {},
   "source": [
    "### Summary of model"
   ]
  },
  {
   "cell_type": "code",
   "execution_count": 16,
   "metadata": {},
   "outputs": [
    {
     "name": "stdout",
     "output_type": "stream",
     "text": [
      "Model: \"sequential\"\n",
      "_________________________________________________________________\n",
      "Layer (type)                 Output Shape              Param #   \n",
      "=================================================================\n",
      "conv2d (Conv2D)              (None, 62, 62, 32)        896       \n",
      "_________________________________________________________________\n",
      "max_pooling2d (MaxPooling2D) (None, 31, 31, 32)        0         \n",
      "_________________________________________________________________\n",
      "flatten (Flatten)            (None, 30752)             0         \n",
      "_________________________________________________________________\n",
      "dense (Dense)                (None, 1024)              31491072  \n",
      "_________________________________________________________________\n",
      "dense_1 (Dense)              (None, 512)               524800    \n",
      "_________________________________________________________________\n",
      "dense_2 (Dense)              (None, 512)               262656    \n",
      "_________________________________________________________________\n",
      "dense_3 (Dense)              (None, 6)                 3078      \n",
      "=================================================================\n",
      "Total params: 32,282,502\n",
      "Trainable params: 32,282,502\n",
      "Non-trainable params: 0\n",
      "_________________________________________________________________\n"
     ]
    }
   ],
   "source": [
    "model.summary()"
   ]
  },
  {
   "cell_type": "markdown",
   "metadata": {},
   "source": [
    "### Configuring the learning process"
   ]
  },
  {
   "cell_type": "code",
   "execution_count": 17,
   "metadata": {},
   "outputs": [],
   "source": [
    "model.compile(optimizer= \"rmsprop\",loss = \"categorical_crossentropy\" , metrics =[\"accuracy\"])"
   ]
  },
  {
   "cell_type": "markdown",
   "metadata": {},
   "source": [
    "### Training the model"
   ]
  },
  {
   "cell_type": "code",
   "execution_count": 18,
   "metadata": {
    "scrolled": true
   },
   "outputs": [
    {
     "name": "stdout",
     "output_type": "stream",
     "text": [
      "Epoch 1/100\n",
      "14/14 [==============================] - 27s 2s/step - loss: 4.5283 - acc: 0.2293 - val_loss: 1.7735 - val_acc: 0.2098\n",
      "Epoch 2/100\n",
      "14/14 [==============================] - 5s 393ms/step - loss: 1.7587 - acc: 0.2790 - val_loss: 1.7996 - val_acc: 0.2238\n",
      "Epoch 3/100\n",
      "14/14 [==============================] - 6s 410ms/step - loss: 1.7385 - acc: 0.2861 - val_loss: 1.7491 - val_acc: 0.2937\n",
      "Epoch 4/100\n",
      "14/14 [==============================] - 6s 436ms/step - loss: 1.5249 - acc: 0.3593 - val_loss: 1.4173 - val_acc: 0.4056\n",
      "Epoch 5/100\n",
      "14/14 [==============================] - 6s 452ms/step - loss: 1.5864 - acc: 0.3972 - val_loss: 1.5534 - val_acc: 0.3427\n",
      "Epoch 6/100\n",
      "14/14 [==============================] - 6s 447ms/step - loss: 1.4746 - acc: 0.4610 - val_loss: 1.5204 - val_acc: 0.3916\n",
      "Epoch 7/100\n",
      "14/14 [==============================] - 6s 460ms/step - loss: 1.3831 - acc: 0.4728 - val_loss: 1.4190 - val_acc: 0.3916\n",
      "Epoch 8/100\n",
      "14/14 [==============================] - 6s 460ms/step - loss: 1.3042 - acc: 0.5059 - val_loss: 1.4487 - val_acc: 0.4056\n",
      "Epoch 9/100\n",
      "14/14 [==============================] - 6s 462ms/step - loss: 1.3095 - acc: 0.5059 - val_loss: 1.2290 - val_acc: 0.5035\n",
      "Epoch 10/100\n",
      "14/14 [==============================] - 6s 455ms/step - loss: 1.3557 - acc: 0.4775 - val_loss: 1.2142 - val_acc: 0.5105\n",
      "Epoch 11/100\n",
      "14/14 [==============================] - 7s 501ms/step - loss: 1.2501 - acc: 0.5177 - val_loss: 1.1703 - val_acc: 0.5594\n",
      "Epoch 12/100\n",
      "14/14 [==============================] - 7s 499ms/step - loss: 1.1306 - acc: 0.5508 - val_loss: 1.1573 - val_acc: 0.5664\n",
      "Epoch 13/100\n",
      "14/14 [==============================] - 7s 506ms/step - loss: 1.1921 - acc: 0.5154 - val_loss: 1.3018 - val_acc: 0.4196\n",
      "Epoch 14/100\n",
      "14/14 [==============================] - 7s 477ms/step - loss: 1.2196 - acc: 0.5366 - val_loss: 1.0092 - val_acc: 0.5874\n",
      "Epoch 15/100\n",
      "14/14 [==============================] - 7s 486ms/step - loss: 1.0733 - acc: 0.5650 - val_loss: 1.0294 - val_acc: 0.5385\n",
      "Epoch 16/100\n",
      "14/14 [==============================] - 7s 492ms/step - loss: 1.1727 - acc: 0.5508 - val_loss: 1.2113 - val_acc: 0.5245\n",
      "Epoch 17/100\n",
      "14/14 [==============================] - 8s 549ms/step - loss: 1.0706 - acc: 0.5887 - val_loss: 1.1017 - val_acc: 0.5245\n",
      "Epoch 18/100\n",
      "14/14 [==============================] - 7s 526ms/step - loss: 1.0425 - acc: 0.5981 - val_loss: 2.3358 - val_acc: 0.4196\n",
      "Epoch 19/100\n",
      "14/14 [==============================] - 8s 536ms/step - loss: 1.1355 - acc: 0.5745 - val_loss: 1.1221 - val_acc: 0.5175\n",
      "Epoch 20/100\n",
      "14/14 [==============================] - 8s 547ms/step - loss: 0.9954 - acc: 0.5887 - val_loss: 0.9763 - val_acc: 0.5944\n",
      "Epoch 21/100\n",
      "14/14 [==============================] - 8s 555ms/step - loss: 1.0349 - acc: 0.5863 - val_loss: 1.0594 - val_acc: 0.6154\n",
      "Epoch 22/100\n",
      "14/14 [==============================] - 7s 532ms/step - loss: 1.0662 - acc: 0.5934 - val_loss: 1.4284 - val_acc: 0.5594\n",
      "Epoch 23/100\n",
      "14/14 [==============================] - 8s 541ms/step - loss: 1.0702 - acc: 0.5816 - val_loss: 0.9701 - val_acc: 0.6224\n",
      "Epoch 24/100\n",
      "14/14 [==============================] - 7s 484ms/step - loss: 0.9520 - acc: 0.6217 - val_loss: 0.9253 - val_acc: 0.5874\n",
      "Epoch 25/100\n",
      "14/14 [==============================] - 7s 495ms/step - loss: 1.0044 - acc: 0.5816 - val_loss: 1.3431 - val_acc: 0.5175\n",
      "Epoch 26/100\n",
      "14/14 [==============================] - 7s 482ms/step - loss: 0.9640 - acc: 0.6052 - val_loss: 1.0050 - val_acc: 0.6154\n",
      "Epoch 27/100\n",
      "14/14 [==============================] - 7s 485ms/step - loss: 0.8998 - acc: 0.6407 - val_loss: 1.5598 - val_acc: 0.4615\n",
      "Epoch 28/100\n",
      "14/14 [==============================] - 7s 491ms/step - loss: 0.9337 - acc: 0.6288 - val_loss: 1.2870 - val_acc: 0.5874\n",
      "Epoch 29/100\n",
      "14/14 [==============================] - 7s 484ms/step - loss: 0.9851 - acc: 0.6336 - val_loss: 1.0537 - val_acc: 0.6014\n",
      "Epoch 30/100\n",
      "14/14 [==============================] - 7s 489ms/step - loss: 0.9659 - acc: 0.5887 - val_loss: 0.9156 - val_acc: 0.6434\n",
      "Epoch 31/100\n",
      "14/14 [==============================] - 7s 505ms/step - loss: 0.8262 - acc: 0.6596 - val_loss: 1.5871 - val_acc: 0.5804\n",
      "Epoch 32/100\n",
      "14/14 [==============================] - 7s 475ms/step - loss: 0.8809 - acc: 0.6383 - val_loss: 1.0195 - val_acc: 0.6224\n",
      "Epoch 33/100\n",
      "14/14 [==============================] - 7s 491ms/step - loss: 0.8413 - acc: 0.6714 - val_loss: 0.8159 - val_acc: 0.6713\n",
      "Epoch 34/100\n",
      "14/14 [==============================] - 7s 491ms/step - loss: 0.8357 - acc: 0.6407 - val_loss: 2.1242 - val_acc: 0.4545\n",
      "Epoch 35/100\n",
      "14/14 [==============================] - 7s 478ms/step - loss: 0.9515 - acc: 0.6265 - val_loss: 1.0899 - val_acc: 0.6434\n",
      "Epoch 36/100\n",
      "14/14 [==============================] - 7s 483ms/step - loss: 0.8572 - acc: 0.6738 - val_loss: 0.9721 - val_acc: 0.6783\n",
      "Epoch 37/100\n",
      "14/14 [==============================] - 7s 479ms/step - loss: 0.8119 - acc: 0.6809 - val_loss: 1.3972 - val_acc: 0.5944\n",
      "Epoch 38/100\n",
      "14/14 [==============================] - 7s 486ms/step - loss: 0.7962 - acc: 0.6903 - val_loss: 0.8882 - val_acc: 0.6923\n",
      "Epoch 39/100\n",
      "14/14 [==============================] - 7s 498ms/step - loss: 0.8106 - acc: 0.6879 - val_loss: 0.8547 - val_acc: 0.7133\n",
      "Epoch 40/100\n",
      "14/14 [==============================] - 7s 480ms/step - loss: 0.8120 - acc: 0.6998 - val_loss: 0.8373 - val_acc: 0.6573\n",
      "Epoch 41/100\n",
      "14/14 [==============================] - 7s 487ms/step - loss: 0.7960 - acc: 0.6927 - val_loss: 0.9400 - val_acc: 0.6573\n",
      "Epoch 42/100\n",
      "14/14 [==============================] - 7s 484ms/step - loss: 0.7106 - acc: 0.7163 - val_loss: 1.2218 - val_acc: 0.6224\n",
      "Epoch 43/100\n",
      "14/14 [==============================] - 7s 485ms/step - loss: 0.7370 - acc: 0.7234 - val_loss: 0.8975 - val_acc: 0.6643\n",
      "Epoch 44/100\n",
      "14/14 [==============================] - 7s 497ms/step - loss: 0.7142 - acc: 0.7400 - val_loss: 0.8205 - val_acc: 0.7063\n",
      "Epoch 45/100\n",
      "14/14 [==============================] - 7s 489ms/step - loss: 0.7368 - acc: 0.7163 - val_loss: 1.3189 - val_acc: 0.6084\n",
      "Epoch 46/100\n",
      "14/14 [==============================] - 7s 484ms/step - loss: 0.7507 - acc: 0.6761 - val_loss: 1.2605 - val_acc: 0.6713\n",
      "Epoch 47/100\n",
      "14/14 [==============================] - 7s 487ms/step - loss: 0.6602 - acc: 0.7376 - val_loss: 0.8570 - val_acc: 0.6853\n",
      "Epoch 48/100\n",
      "14/14 [==============================] - 7s 481ms/step - loss: 0.6014 - acc: 0.7400 - val_loss: 0.8864 - val_acc: 0.7273\n",
      "Epoch 49/100\n",
      "14/14 [==============================] - 7s 480ms/step - loss: 0.9505 - acc: 0.6785 - val_loss: 0.8938 - val_acc: 0.6783\n",
      "Epoch 50/100\n",
      "14/14 [==============================] - 7s 516ms/step - loss: 0.6771 - acc: 0.7660 - val_loss: 0.8321 - val_acc: 0.7413\n",
      "Epoch 51/100\n",
      "14/14 [==============================] - 8s 554ms/step - loss: 0.6562 - acc: 0.7305 - val_loss: 0.9220 - val_acc: 0.7343\n",
      "Epoch 52/100\n",
      "14/14 [==============================] - 7s 496ms/step - loss: 0.6117 - acc: 0.7518 - val_loss: 1.8788 - val_acc: 0.5944\n",
      "Epoch 53/100\n",
      "14/14 [==============================] - 7s 498ms/step - loss: 0.5996 - acc: 0.7589 - val_loss: 0.9524 - val_acc: 0.7133\n",
      "Epoch 54/100\n",
      "14/14 [==============================] - 7s 490ms/step - loss: 0.7428 - acc: 0.7329 - val_loss: 0.8892 - val_acc: 0.7413\n",
      "Epoch 55/100\n",
      "14/14 [==============================] - 7s 486ms/step - loss: 0.7029 - acc: 0.7683 - val_loss: 1.0638 - val_acc: 0.6853\n",
      "Epoch 56/100\n",
      "14/14 [==============================] - 7s 507ms/step - loss: 0.5201 - acc: 0.8038 - val_loss: 1.3224 - val_acc: 0.6364\n",
      "Epoch 57/100\n",
      "14/14 [==============================] - 7s 490ms/step - loss: 0.7736 - acc: 0.7258 - val_loss: 1.0454 - val_acc: 0.7413\n",
      "Epoch 58/100\n",
      "14/14 [==============================] - 7s 491ms/step - loss: 0.7323 - acc: 0.7565 - val_loss: 0.8671 - val_acc: 0.6853\n",
      "Epoch 59/100\n",
      "14/14 [==============================] - 7s 484ms/step - loss: 0.4953 - acc: 0.8061 - val_loss: 1.5312 - val_acc: 0.6084\n",
      "Epoch 60/100\n",
      "14/14 [==============================] - 7s 491ms/step - loss: 0.5604 - acc: 0.8038 - val_loss: 0.9355 - val_acc: 0.6643\n",
      "Epoch 61/100\n",
      "14/14 [==============================] - 6s 436ms/step - loss: 0.5565 - acc: 0.7801 - val_loss: 2.1851 - val_acc: 0.5944\n",
      "Epoch 62/100\n"
     ]
    },
    {
     "name": "stdout",
     "output_type": "stream",
     "text": [
      "14/14 [==============================] - 6s 418ms/step - loss: 0.8138 - acc: 0.7116 - val_loss: 0.6710 - val_acc: 0.7552\n",
      "Epoch 63/100\n",
      "14/14 [==============================] - 6s 430ms/step - loss: 0.4814 - acc: 0.8251 - val_loss: 0.9605 - val_acc: 0.7203\n",
      "Epoch 64/100\n",
      "14/14 [==============================] - 6s 415ms/step - loss: 0.5950 - acc: 0.7707 - val_loss: 0.7075 - val_acc: 0.7762\n",
      "Epoch 65/100\n",
      "14/14 [==============================] - 6s 420ms/step - loss: 0.7003 - acc: 0.7494 - val_loss: 1.0239 - val_acc: 0.7552\n",
      "Epoch 66/100\n",
      "14/14 [==============================] - 6s 441ms/step - loss: 0.6428 - acc: 0.7683 - val_loss: 1.1227 - val_acc: 0.7343\n",
      "Epoch 67/100\n",
      "14/14 [==============================] - 6s 453ms/step - loss: 0.6434 - acc: 0.7754 - val_loss: 1.8140 - val_acc: 0.6364\n",
      "Epoch 68/100\n",
      "14/14 [==============================] - 6s 455ms/step - loss: 0.5236 - acc: 0.7967 - val_loss: 0.6613 - val_acc: 0.8112\n",
      "Epoch 69/100\n",
      "14/14 [==============================] - 6s 414ms/step - loss: 0.5240 - acc: 0.7896 - val_loss: 0.7132 - val_acc: 0.8112\n",
      "Epoch 70/100\n",
      "14/14 [==============================] - 6s 436ms/step - loss: 0.5974 - acc: 0.7612 - val_loss: 1.3533 - val_acc: 0.6434\n",
      "Epoch 71/100\n",
      "14/14 [==============================] - 6s 418ms/step - loss: 0.4683 - acc: 0.8322 - val_loss: 1.2529 - val_acc: 0.7483\n",
      "Epoch 72/100\n",
      "14/14 [==============================] - 6s 433ms/step - loss: 0.5363 - acc: 0.8132 - val_loss: 0.7345 - val_acc: 0.7622\n",
      "Epoch 73/100\n",
      "14/14 [==============================] - 8s 540ms/step - loss: 0.5584 - acc: 0.8085 - val_loss: 0.9268 - val_acc: 0.7622\n",
      "Epoch 74/100\n",
      "14/14 [==============================] - 7s 496ms/step - loss: 0.7099 - acc: 0.7589 - val_loss: 0.9853 - val_acc: 0.7902\n",
      "Epoch 75/100\n",
      "14/14 [==============================] - 7s 471ms/step - loss: 0.4301 - acc: 0.8392 - val_loss: 1.2426 - val_acc: 0.7762\n",
      "Epoch 76/100\n",
      "14/14 [==============================] - 8s 546ms/step - loss: 0.6235 - acc: 0.7683 - val_loss: 1.0149 - val_acc: 0.7692\n",
      "Epoch 77/100\n",
      "14/14 [==============================] - 7s 472ms/step - loss: 0.5012 - acc: 0.8180 - val_loss: 2.0772 - val_acc: 0.6573\n",
      "Epoch 78/100\n",
      "14/14 [==============================] - 7s 531ms/step - loss: 0.6301 - acc: 0.7754 - val_loss: 2.5375 - val_acc: 0.6224\n",
      "Epoch 79/100\n",
      "14/14 [==============================] - 7s 473ms/step - loss: 0.4560 - acc: 0.8392 - val_loss: 0.6001 - val_acc: 0.8112\n",
      "Epoch 80/100\n",
      "14/14 [==============================] - 7s 493ms/step - loss: 0.4020 - acc: 0.8369 - val_loss: 1.0105 - val_acc: 0.8112\n",
      "Epoch 81/100\n",
      "14/14 [==============================] - 8s 544ms/step - loss: 0.6918 - acc: 0.7730 - val_loss: 0.5633 - val_acc: 0.8462\n",
      "Epoch 82/100\n",
      "14/14 [==============================] - 7s 518ms/step - loss: 0.3673 - acc: 0.8558 - val_loss: 4.4462 - val_acc: 0.6294\n",
      "Epoch 83/100\n",
      "14/14 [==============================] - 7s 528ms/step - loss: 0.7489 - acc: 0.7660 - val_loss: 0.7720 - val_acc: 0.8042\n",
      "Epoch 84/100\n",
      "14/14 [==============================] - 7s 481ms/step - loss: 0.3796 - acc: 0.8723 - val_loss: 1.0701 - val_acc: 0.7622\n",
      "Epoch 85/100\n",
      "14/14 [==============================] - 7s 529ms/step - loss: 0.4243 - acc: 0.8298 - val_loss: 1.1049 - val_acc: 0.7273\n",
      "Epoch 86/100\n",
      "14/14 [==============================] - 7s 494ms/step - loss: 0.3455 - acc: 0.8534 - val_loss: 1.9701 - val_acc: 0.6364\n",
      "Epoch 87/100\n",
      "14/14 [==============================] - 7s 523ms/step - loss: 0.6203 - acc: 0.8416 - val_loss: 1.2808 - val_acc: 0.8112\n",
      "Epoch 88/100\n",
      "14/14 [==============================] - 7s 502ms/step - loss: 0.4129 - acc: 0.8487 - val_loss: 1.8782 - val_acc: 0.7133\n",
      "Epoch 89/100\n",
      "14/14 [==============================] - 7s 485ms/step - loss: 0.7959 - acc: 0.7730 - val_loss: 0.6926 - val_acc: 0.8601\n",
      "Epoch 90/100\n",
      "14/14 [==============================] - 7s 491ms/step - loss: 0.3035 - acc: 0.8960 - val_loss: 0.7483 - val_acc: 0.8322\n",
      "Epoch 91/100\n",
      "14/14 [==============================] - 7s 520ms/step - loss: 0.4593 - acc: 0.8322 - val_loss: 0.6332 - val_acc: 0.8042\n",
      "Epoch 92/100\n",
      "14/14 [==============================] - 7s 487ms/step - loss: 0.3807 - acc: 0.8747 - val_loss: 1.7556 - val_acc: 0.7832\n",
      "Epoch 93/100\n",
      "14/14 [==============================] - 7s 489ms/step - loss: 0.5602 - acc: 0.8369 - val_loss: 0.8689 - val_acc: 0.7273\n",
      "Epoch 94/100\n",
      "14/14 [==============================] - 7s 493ms/step - loss: 0.3640 - acc: 0.8747 - val_loss: 1.0754 - val_acc: 0.7832\n",
      "Epoch 95/100\n",
      "14/14 [==============================] - 8s 564ms/step - loss: 0.4138 - acc: 0.8298 - val_loss: 1.3080 - val_acc: 0.7273\n",
      "Epoch 96/100\n",
      "14/14 [==============================] - 7s 474ms/step - loss: 0.4320 - acc: 0.8605 - val_loss: 1.1331 - val_acc: 0.8042\n",
      "Epoch 97/100\n",
      "14/14 [==============================] - 7s 486ms/step - loss: 0.4272 - acc: 0.8534 - val_loss: 1.1002 - val_acc: 0.8182\n",
      "Epoch 98/100\n",
      "14/14 [==============================] - 7s 514ms/step - loss: 0.4998 - acc: 0.8369 - val_loss: 1.0239 - val_acc: 0.7622\n",
      "Epoch 99/100\n",
      "14/14 [==============================] - 8s 550ms/step - loss: 0.3005 - acc: 0.8889 - val_loss: 1.2988 - val_acc: 0.7972\n",
      "Epoch 100/100\n",
      "14/14 [==============================] - 7s 526ms/step - loss: 0.3706 - acc: 0.8700 - val_loss: 1.0906 - val_acc: 0.7622\n"
     ]
    },
    {
     "data": {
      "text/plain": [
       "<tensorflow.python.keras.callbacks.History at 0x280fd31a438>"
      ]
     },
     "execution_count": 18,
     "metadata": {},
     "output_type": "execute_result"
    }
   ],
   "source": [
    "model.fit_generator(x_train,steps_per_epoch = 14 , epochs = 100, validation_data = x_test,validation_steps = 5 )"
   ]
  },
  {
   "cell_type": "markdown",
   "metadata": {},
   "source": [
    "### Saving the model"
   ]
  },
  {
   "cell_type": "code",
   "execution_count": 19,
   "metadata": {},
   "outputs": [],
   "source": [
    "model.save('edible.h5')"
   ]
  },
  {
   "cell_type": "markdown",
   "metadata": {},
   "source": [
    "## TESTING THE MODEL"
   ]
  },
  {
   "cell_type": "markdown",
   "metadata": {},
   "source": [
    "### Loading model for prediction "
   ]
  },
  {
   "cell_type": "code",
   "execution_count": 20,
   "metadata": {},
   "outputs": [
    {
     "ename": "AttributeError",
     "evalue": "'str' object has no attribute 'decode'",
     "output_type": "error",
     "traceback": [
      "\u001b[1;31m-------------------------------------------\u001b[0m",
      "\u001b[1;31mAttributeError\u001b[0mTraceback (most recent call last)",
      "\u001b[1;32m<ipython-input-20-15e086676a8e>\u001b[0m in \u001b[0;36m<module>\u001b[1;34m\u001b[0m\n\u001b[1;32m----> 1\u001b[1;33m \u001b[0mmodel\u001b[0m \u001b[1;33m=\u001b[0m \u001b[0mload_model\u001b[0m\u001b[1;33m(\u001b[0m\u001b[1;34m\"edible.h5\"\u001b[0m\u001b[1;33m)\u001b[0m\u001b[1;33m\u001b[0m\u001b[1;33m\u001b[0m\u001b[0m\n\u001b[0m",
      "\u001b[1;32m~\\Anaconda3\\lib\\site-packages\\tensorflow\\python\\keras\\saving\\save.py\u001b[0m in \u001b[0;36mload_model\u001b[1;34m(filepath, custom_objects, compile)\u001b[0m\n\u001b[0;32m    144\u001b[0m       h5py is not None and (\n\u001b[0;32m    145\u001b[0m           isinstance(filepath, h5py.File) or h5py.is_hdf5(filepath))):\n\u001b[1;32m--> 146\u001b[1;33m     \u001b[1;32mreturn\u001b[0m \u001b[0mhdf5_format\u001b[0m\u001b[1;33m.\u001b[0m\u001b[0mload_model_from_hdf5\u001b[0m\u001b[1;33m(\u001b[0m\u001b[0mfilepath\u001b[0m\u001b[1;33m,\u001b[0m \u001b[0mcustom_objects\u001b[0m\u001b[1;33m,\u001b[0m \u001b[0mcompile\u001b[0m\u001b[1;33m)\u001b[0m\u001b[1;33m\u001b[0m\u001b[1;33m\u001b[0m\u001b[0m\n\u001b[0m\u001b[0;32m    147\u001b[0m \u001b[1;33m\u001b[0m\u001b[0m\n\u001b[0;32m    148\u001b[0m   \u001b[1;32mif\u001b[0m \u001b[0misinstance\u001b[0m\u001b[1;33m(\u001b[0m\u001b[0mfilepath\u001b[0m\u001b[1;33m,\u001b[0m \u001b[0msix\u001b[0m\u001b[1;33m.\u001b[0m\u001b[0mstring_types\u001b[0m\u001b[1;33m)\u001b[0m\u001b[1;33m:\u001b[0m\u001b[1;33m\u001b[0m\u001b[1;33m\u001b[0m\u001b[0m\n",
      "\u001b[1;32m~\\Anaconda3\\lib\\site-packages\\tensorflow\\python\\keras\\saving\\hdf5_format.py\u001b[0m in \u001b[0;36mload_model_from_hdf5\u001b[1;34m(filepath, custom_objects, compile)\u001b[0m\n\u001b[0;32m    208\u001b[0m     \u001b[1;32mif\u001b[0m \u001b[0mmodel_config\u001b[0m \u001b[1;32mis\u001b[0m \u001b[1;32mNone\u001b[0m\u001b[1;33m:\u001b[0m\u001b[1;33m\u001b[0m\u001b[1;33m\u001b[0m\u001b[0m\n\u001b[0;32m    209\u001b[0m       \u001b[1;32mraise\u001b[0m \u001b[0mValueError\u001b[0m\u001b[1;33m(\u001b[0m\u001b[1;34m'No model found in config file.'\u001b[0m\u001b[1;33m)\u001b[0m\u001b[1;33m\u001b[0m\u001b[1;33m\u001b[0m\u001b[0m\n\u001b[1;32m--> 210\u001b[1;33m     \u001b[0mmodel_config\u001b[0m \u001b[1;33m=\u001b[0m \u001b[0mjson\u001b[0m\u001b[1;33m.\u001b[0m\u001b[0mloads\u001b[0m\u001b[1;33m(\u001b[0m\u001b[0mmodel_config\u001b[0m\u001b[1;33m.\u001b[0m\u001b[0mdecode\u001b[0m\u001b[1;33m(\u001b[0m\u001b[1;34m'utf-8'\u001b[0m\u001b[1;33m)\u001b[0m\u001b[1;33m)\u001b[0m\u001b[1;33m\u001b[0m\u001b[1;33m\u001b[0m\u001b[0m\n\u001b[0m\u001b[0;32m    211\u001b[0m     model = model_config_lib.model_from_config(model_config,\n\u001b[0;32m    212\u001b[0m                                                custom_objects=custom_objects)\n",
      "\u001b[1;31mAttributeError\u001b[0m: 'str' object has no attribute 'decode'"
     ]
    }
   ],
   "source": [
    "model = load_model(\"edible.h5\")"
   ]
  },
  {
   "cell_type": "markdown",
   "metadata": {},
   "source": [
    "### Predicting the results"
   ]
  },
  {
   "cell_type": "code",
   "execution_count": null,
   "metadata": {},
   "outputs": [],
   "source": [
    "img = image.load_img(r\"C:\\Users\\Sneha\\Downloads\\download (7).jpg\",\n",
    "                     target_size=(64,64))\n",
    "x = image.img_to_array(img)\n",
    "x = np.expand_dims(x,axis=0)\n",
    "pred = model.predict_classes(x)\n",
    "pred"
   ]
  },
  {
   "cell_type": "code",
   "execution_count": null,
   "metadata": {},
   "outputs": [],
   "source": [
    "index=['Asparagus_edible','Blue Vervain_edible','Cattail_edible',\n",
    "       'Chicory_edible_non edible','Fireweed_edible_non edible', \n",
    "       'green castor bean_non edible']\n",
    "result = str(index[pred[0]])\n",
    "result"
   ]
  },
  {
   "cell_type": "code",
   "execution_count": null,
   "metadata": {},
   "outputs": [],
   "source": [
    "img = image.load_img(r\"C:\\Users\\Sneha\\Downloads\\download (8).jpg\",\n",
    "                     target_size=(64,64))\n",
    "x = image.img_to_array(img)\n",
    "x = np.expand_dims(x,axis=0)\n",
    "pred = model.predict_classes(x)\n",
    "pred"
   ]
  },
  {
   "cell_type": "code",
   "execution_count": null,
   "metadata": {},
   "outputs": [],
   "source": [
    "index=['Asparagus_edible','Blue Vervain_edible','Cattail_edible',\n",
    "       'Chicory_edible_non edible','Fireweed_edible_non edible', \n",
    "       'green castor bean_non edible']\n",
    "result = str(index[pred[0]])\n",
    "result"
   ]
  }
 ],
 "metadata": {
  "kernelspec": {
   "display_name": "Python 3",
   "language": "python",
   "name": "python3"
  },
  "language_info": {
   "codemirror_mode": {
    "name": "ipython",
    "version": 3
   },
   "file_extension": ".py",
   "mimetype": "text/x-python",
   "name": "python",
   "nbconvert_exporter": "python",
   "pygments_lexer": "ipython3",
   "version": "3.7.3"
  }
 },
 "nbformat": 4,
 "nbformat_minor": 5
}
