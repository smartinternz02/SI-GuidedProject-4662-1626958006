{
 "cells": [
  {
   "cell_type": "markdown",
   "id": "fd5cff90",
   "metadata": {},
   "source": [
    "# WILD PLANT EDIBILITY PREDICTION"
   ]
  },
  {
   "cell_type": "markdown",
   "id": "74bfc064",
   "metadata": {},
   "source": [
    "### Importing all the required libraries"
   ]
  },
  {
   "cell_type": "code",
   "execution_count": 17,
   "id": "35c7a1b0",
   "metadata": {},
   "outputs": [],
   "source": [
    "from tensorflow.keras.models import Sequential\n",
    "from tensorflow.keras.layers import Dense, Convolution2D,MaxPooling2D,Flatten\n",
    "from tensorflow.keras.preprocessing .image import ImageDataGenerator\n",
    "from tensorflow.keras.models import load_model\n",
    "from tensorflow.keras.preprocessing  import image\n",
    "import numpy as np"
   ]
  },
  {
   "cell_type": "markdown",
   "id": "888d1b5a",
   "metadata": {},
   "source": [
    "### Image Preprocessing using ImageDataGenerator library"
   ]
  },
  {
   "cell_type": "code",
   "execution_count": 18,
   "id": "92fc037d",
   "metadata": {},
   "outputs": [],
   "source": [
    "train_datagen = ImageDataGenerator(rescale = 1./255,shear_range = 0.2,zoom_range = 0.2,horizontal_flip = True, rotation_range=180)\n",
    "test_datagen = ImageDataGenerator(rescale = 1./255)"
   ]
  },
  {
   "cell_type": "code",
   "execution_count": 19,
   "id": "d4bc66fb",
   "metadata": {},
   "outputs": [
    {
     "name": "stdout",
     "output_type": "stream",
     "text": [
      "Found 423 images belonging to 6 classes.\n",
      "Found 143 images belonging to 6 classes.\n"
     ]
    }
   ],
   "source": [
    "x_train = train_datagen.flow_from_directory(r'C:\\Users\\Sneha\\Downloads\\dataset\\dataset\\train_set',target_size = (64,64),batch_size = 32,class_mode = \"categorical\")\n",
    "x_test = test_datagen.flow_from_directory(r'C:\\Users\\Sneha\\Downloads\\dataset\\dataset\\test_set',target_size = (64,64),batch_size = 32,class_mode = \"categorical\")"
   ]
  },
  {
   "cell_type": "markdown",
   "id": "b7a725a4",
   "metadata": {},
   "source": [
    "### Assigning index to each class"
   ]
  },
  {
   "cell_type": "code",
   "execution_count": 20,
   "id": "590b5afa",
   "metadata": {},
   "outputs": [
    {
     "data": {
      "text/plain": [
       "{'Asparagus_edible': 0,\n",
       " 'Blue Vervain_edible': 1,\n",
       " 'Cattail_edible': 2,\n",
       " 'Chicory_edible_non edible': 3,\n",
       " 'Fireweed_edible_non edible': 4,\n",
       " 'green castor bean_non edible': 5}"
      ]
     },
     "execution_count": 20,
     "metadata": {},
     "output_type": "execute_result"
    }
   ],
   "source": [
    "x_train.class_indices"
   ]
  },
  {
   "cell_type": "markdown",
   "id": "dc7b4e75",
   "metadata": {},
   "source": [
    "### Building the model"
   ]
  },
  {
   "cell_type": "code",
   "execution_count": 21,
   "id": "3030a395",
   "metadata": {},
   "outputs": [],
   "source": [
    "model = Sequential()"
   ]
  },
  {
   "cell_type": "code",
   "execution_count": 22,
   "id": "df5d7c11",
   "metadata": {},
   "outputs": [],
   "source": [
    "model.add(Convolution2D(32,(3,3),input_shape = (64,64,3)))"
   ]
  },
  {
   "cell_type": "code",
   "execution_count": 23,
   "id": "fc571035",
   "metadata": {},
   "outputs": [],
   "source": [
    "model.add(MaxPooling2D((2,2)))"
   ]
  },
  {
   "cell_type": "code",
   "execution_count": 24,
   "id": "8123a8f3",
   "metadata": {},
   "outputs": [],
   "source": [
    "model.add(Flatten())"
   ]
  },
  {
   "cell_type": "code",
   "execution_count": 25,
   "id": "9d0b3c3f",
   "metadata": {},
   "outputs": [],
   "source": [
    "model.add(Dense(units = 1024, kernel_initializer= \"random_uniform\",activation = \"relu\"))"
   ]
  },
  {
   "cell_type": "code",
   "execution_count": 26,
   "id": "379d2f22",
   "metadata": {},
   "outputs": [],
   "source": [
    "model.add(Dense(activation='relu',kernel_initializer='uniform',units=512))"
   ]
  },
  {
   "cell_type": "code",
   "execution_count": 27,
   "id": "6ca7145c",
   "metadata": {},
   "outputs": [],
   "source": [
    "model.add(Dense(activation='relu',kernel_initializer='uniform',units=512))"
   ]
  },
  {
   "cell_type": "code",
   "execution_count": 28,
   "id": "fcc479e6",
   "metadata": {},
   "outputs": [],
   "source": [
    "model.add(Dense(units = 6 , kernel_initializer= \"random_uniform\",activation = \"softmax\"))"
   ]
  },
  {
   "cell_type": "markdown",
   "id": "078c5825",
   "metadata": {},
   "source": [
    "### Summary of model"
   ]
  },
  {
   "cell_type": "code",
   "execution_count": 29,
   "id": "d86d6808",
   "metadata": {},
   "outputs": [
    {
     "name": "stdout",
     "output_type": "stream",
     "text": [
      "Model: \"sequential_1\"\n",
      "_________________________________________________________________\n",
      "Layer (type)                 Output Shape              Param #   \n",
      "=================================================================\n",
      "conv2d_1 (Conv2D)            (None, 62, 62, 32)        896       \n",
      "_________________________________________________________________\n",
      "max_pooling2d_1 (MaxPooling2 (None, 31, 31, 32)        0         \n",
      "_________________________________________________________________\n",
      "flatten_1 (Flatten)          (None, 30752)             0         \n",
      "_________________________________________________________________\n",
      "dense_4 (Dense)              (None, 1024)              31491072  \n",
      "_________________________________________________________________\n",
      "dense_5 (Dense)              (None, 512)               524800    \n",
      "_________________________________________________________________\n",
      "dense_6 (Dense)              (None, 512)               262656    \n",
      "_________________________________________________________________\n",
      "dense_7 (Dense)              (None, 6)                 3078      \n",
      "=================================================================\n",
      "Total params: 32,282,502\n",
      "Trainable params: 32,282,502\n",
      "Non-trainable params: 0\n",
      "_________________________________________________________________\n"
     ]
    }
   ],
   "source": [
    "model.summary()"
   ]
  },
  {
   "cell_type": "markdown",
   "id": "e99ab981",
   "metadata": {},
   "source": [
    "### Configuring the learning process"
   ]
  },
  {
   "cell_type": "code",
   "execution_count": 30,
   "id": "70814a3f",
   "metadata": {},
   "outputs": [],
   "source": [
    "model.compile(optimizer= \"rmsprop\",loss = \"categorical_crossentropy\" , metrics =[\"accuracy\"])"
   ]
  },
  {
   "cell_type": "markdown",
   "id": "00370713",
   "metadata": {},
   "source": [
    "### Training the model"
   ]
  },
  {
   "cell_type": "code",
   "execution_count": 38,
   "id": "663ff917",
   "metadata": {
    "scrolled": true
   },
   "outputs": [
    {
     "name": "stdout",
     "output_type": "stream",
     "text": [
      "Epoch 1/100\n",
      "14/14 [==============================] - 9s 587ms/step - loss: 0.3569 - accuracy: 0.8889 - val_loss: 2.3039 - val_accuracy: 0.7413\n",
      "Epoch 2/100\n",
      "14/14 [==============================] - 8s 525ms/step - loss: 0.2844 - accuracy: 0.8889 - val_loss: 1.9592 - val_accuracy: 0.7483\n",
      "Epoch 3/100\n",
      "14/14 [==============================] - 8s 572ms/step - loss: 0.4072 - accuracy: 0.8818 - val_loss: 1.0287 - val_accuracy: 0.8182\n",
      "Epoch 4/100\n",
      "14/14 [==============================] - 8s 575ms/step - loss: 0.3739 - accuracy: 0.8794 - val_loss: 3.0722 - val_accuracy: 0.6993\n",
      "Epoch 5/100\n",
      "14/14 [==============================] - 8s 575ms/step - loss: 0.3569 - accuracy: 0.8913 - val_loss: 1.5748 - val_accuracy: 0.7273\n",
      "Epoch 6/100\n",
      "14/14 [==============================] - 7s 519ms/step - loss: 0.2264 - accuracy: 0.9078 - val_loss: 0.9229 - val_accuracy: 0.8112\n",
      "Epoch 7/100\n",
      "14/14 [==============================] - 7s 528ms/step - loss: 0.3605 - accuracy: 0.9102 - val_loss: 6.0326 - val_accuracy: 0.6294\n",
      "Epoch 8/100\n",
      "14/14 [==============================] - 8s 582ms/step - loss: 0.4648 - accuracy: 0.8652 - val_loss: 0.5150 - val_accuracy: 0.8811\n",
      "Epoch 9/100\n",
      "14/14 [==============================] - 8s 577ms/step - loss: 0.2732 - accuracy: 0.9102 - val_loss: 0.9787 - val_accuracy: 0.8112\n",
      "Epoch 10/100\n",
      "14/14 [==============================] - 8s 531ms/step - loss: 0.4286 - accuracy: 0.8842 - val_loss: 1.4687 - val_accuracy: 0.7552\n",
      "Epoch 11/100\n",
      "14/14 [==============================] - 8s 540ms/step - loss: 0.3672 - accuracy: 0.8936 - val_loss: 0.4299 - val_accuracy: 0.8811\n",
      "Epoch 12/100\n",
      "14/14 [==============================] - 7s 529ms/step - loss: 0.3595 - accuracy: 0.8794 - val_loss: 1.8645 - val_accuracy: 0.7413\n",
      "Epoch 13/100\n",
      "14/14 [==============================] - 8s 572ms/step - loss: 0.2993 - accuracy: 0.9007 - val_loss: 0.3285 - val_accuracy: 0.9231\n",
      "Epoch 14/100\n",
      "14/14 [==============================] - 8s 585ms/step - loss: 0.3911 - accuracy: 0.8747 - val_loss: 2.3686 - val_accuracy: 0.7902\n",
      "Epoch 15/100\n",
      "14/14 [==============================] - 8s 539ms/step - loss: 0.7687 - accuracy: 0.8392 - val_loss: 0.9688 - val_accuracy: 0.8042\n",
      "Epoch 16/100\n",
      "14/14 [==============================] - 8s 553ms/step - loss: 0.2118 - accuracy: 0.9338 - val_loss: 0.5666 - val_accuracy: 0.8881\n",
      "Epoch 17/100\n",
      "14/14 [==============================] - 8s 561ms/step - loss: 0.2750 - accuracy: 0.9125 - val_loss: 0.3295 - val_accuracy: 0.9021\n",
      "Epoch 18/100\n",
      "14/14 [==============================] - 8s 572ms/step - loss: 0.2958 - accuracy: 0.9054 - val_loss: 0.5099 - val_accuracy: 0.8462\n",
      "Epoch 19/100\n",
      "14/14 [==============================] - 9s 641ms/step - loss: 0.3698 - accuracy: 0.8747 - val_loss: 0.2921 - val_accuracy: 0.9021\n",
      "Epoch 20/100\n",
      "14/14 [==============================] - 8s 571ms/step - loss: 0.4153 - accuracy: 0.8818 - val_loss: 0.4466 - val_accuracy: 0.8951\n",
      "Epoch 21/100\n",
      "14/14 [==============================] - 8s 538ms/step - loss: 0.2898 - accuracy: 0.9338 - val_loss: 0.9933 - val_accuracy: 0.7692\n",
      "Epoch 22/100\n",
      "14/14 [==============================] - 7s 527ms/step - loss: 0.6424 - accuracy: 0.8392 - val_loss: 0.8814 - val_accuracy: 0.7972\n",
      "Epoch 23/100\n",
      "14/14 [==============================] - 9s 620ms/step - loss: 0.3497 - accuracy: 0.9007 - val_loss: 0.5593 - val_accuracy: 0.8531\n",
      "Epoch 24/100\n",
      "14/14 [==============================] - 8s 555ms/step - loss: 0.3660 - accuracy: 0.9007 - val_loss: 0.5141 - val_accuracy: 0.8601\n",
      "Epoch 25/100\n",
      "14/14 [==============================] - 8s 576ms/step - loss: 0.1617 - accuracy: 0.9480 - val_loss: 0.4688 - val_accuracy: 0.8881\n",
      "Epoch 26/100\n",
      "14/14 [==============================] - 8s 568ms/step - loss: 0.5092 - accuracy: 0.8700 - val_loss: 0.5983 - val_accuracy: 0.8531\n",
      "Epoch 27/100\n",
      "14/14 [==============================] - 7s 523ms/step - loss: 0.1549 - accuracy: 0.9409 - val_loss: 1.2273 - val_accuracy: 0.7972\n",
      "Epoch 28/100\n",
      "14/14 [==============================] - 7s 515ms/step - loss: 0.4093 - accuracy: 0.8818 - val_loss: 0.2126 - val_accuracy: 0.9301\n",
      "Epoch 29/100\n",
      "14/14 [==============================] - 7s 513ms/step - loss: 0.1867 - accuracy: 0.9338 - val_loss: 0.5553 - val_accuracy: 0.8462\n",
      "Epoch 30/100\n",
      "14/14 [==============================] - 8s 543ms/step - loss: 0.2485 - accuracy: 0.9173 - val_loss: 0.8790 - val_accuracy: 0.8671\n",
      "Epoch 31/100\n",
      "14/14 [==============================] - 9s 677ms/step - loss: 0.4590 - accuracy: 0.8889 - val_loss: 0.3308 - val_accuracy: 0.8671\n",
      "Epoch 32/100\n",
      "14/14 [==============================] - 8s 575ms/step - loss: 0.1951 - accuracy: 0.9338 - val_loss: 0.5051 - val_accuracy: 0.8881\n",
      "Epoch 33/100\n",
      "14/14 [==============================] - 8s 551ms/step - loss: 0.5216 - accuracy: 0.8794 - val_loss: 0.5570 - val_accuracy: 0.8601\n",
      "Epoch 34/100\n",
      "14/14 [==============================] - 8s 546ms/step - loss: 0.2588 - accuracy: 0.9243 - val_loss: 0.8178 - val_accuracy: 0.8741\n",
      "Epoch 35/100\n",
      "14/14 [==============================] - 8s 567ms/step - loss: 0.2842 - accuracy: 0.9078 - val_loss: 0.9909 - val_accuracy: 0.8601\n",
      "Epoch 36/100\n",
      "14/14 [==============================] - 8s 540ms/step - loss: 0.3603 - accuracy: 0.9031 - val_loss: 0.7401 - val_accuracy: 0.8462\n",
      "Epoch 37/100\n",
      "14/14 [==============================] - 7s 526ms/step - loss: 0.1382 - accuracy: 0.9574 - val_loss: 0.8743 - val_accuracy: 0.8531\n",
      "Epoch 38/100\n",
      "14/14 [==============================] - 8s 573ms/step - loss: 0.2841 - accuracy: 0.9220 - val_loss: 0.3013 - val_accuracy: 0.9091\n",
      "Epoch 39/100\n",
      "14/14 [==============================] - 8s 530ms/step - loss: 0.3158 - accuracy: 0.9007 - val_loss: 0.8706 - val_accuracy: 0.8741\n",
      "Epoch 40/100\n",
      "14/14 [==============================] - 7s 521ms/step - loss: 0.4169 - accuracy: 0.8771 - val_loss: 0.7735 - val_accuracy: 0.8671\n",
      "Epoch 41/100\n",
      "14/14 [==============================] - 7s 509ms/step - loss: 0.2359 - accuracy: 0.9125 - val_loss: 0.3421 - val_accuracy: 0.8811\n",
      "Epoch 42/100\n",
      "14/14 [==============================] - 7s 509ms/step - loss: 0.1324 - accuracy: 0.9433 - val_loss: 0.5878 - val_accuracy: 0.8322\n",
      "Epoch 43/100\n",
      "14/14 [==============================] - 7s 507ms/step - loss: 0.3607 - accuracy: 0.9267 - val_loss: 0.5233 - val_accuracy: 0.8881\n",
      "Epoch 44/100\n",
      "14/14 [==============================] - 8s 537ms/step - loss: 0.3507 - accuracy: 0.8794 - val_loss: 0.8689 - val_accuracy: 0.8741\n",
      "Epoch 45/100\n",
      "14/14 [==============================] - 8s 540ms/step - loss: 0.2924 - accuracy: 0.9243 - val_loss: 0.7840 - val_accuracy: 0.8322\n",
      "Epoch 46/100\n",
      "14/14 [==============================] - 8s 582ms/step - loss: 0.2738 - accuracy: 0.9338 - val_loss: 0.2391 - val_accuracy: 0.9301\n",
      "Epoch 47/100\n",
      "14/14 [==============================] - 10s 701ms/step - loss: 0.2280 - accuracy: 0.9196 - val_loss: 0.7579 - val_accuracy: 0.7902\n",
      "Epoch 48/100\n",
      "14/14 [==============================] - 8s 603ms/step - loss: 0.2418 - accuracy: 0.9173 - val_loss: 1.3819 - val_accuracy: 0.8392\n",
      "Epoch 49/100\n",
      "14/14 [==============================] - 8s 554ms/step - loss: 0.4969 - accuracy: 0.8960 - val_loss: 0.1912 - val_accuracy: 0.9301\n",
      "Epoch 50/100\n",
      "14/14 [==============================] - 8s 592ms/step - loss: 0.1493 - accuracy: 0.9433 - val_loss: 0.2443 - val_accuracy: 0.9161\n",
      "Epoch 51/100\n",
      "14/14 [==============================] - 8s 580ms/step - loss: 0.1364 - accuracy: 0.9480 - val_loss: 1.0254 - val_accuracy: 0.8042\n",
      "Epoch 52/100\n",
      "14/14 [==============================] - 10s 740ms/step - loss: 0.4235 - accuracy: 0.8889 - val_loss: 0.9665 - val_accuracy: 0.8042\n",
      "Epoch 53/100\n",
      "14/14 [==============================] - 9s 644ms/step - loss: 0.2848 - accuracy: 0.9291 - val_loss: 4.1884 - val_accuracy: 0.6993\n",
      "Epoch 54/100\n",
      "14/14 [==============================] - 8s 560ms/step - loss: 0.5005 - accuracy: 0.8889 - val_loss: 0.5783 - val_accuracy: 0.8741\n",
      "Epoch 55/100\n",
      "14/14 [==============================] - 8s 600ms/step - loss: 0.1501 - accuracy: 0.9527 - val_loss: 0.6080 - val_accuracy: 0.8811\n",
      "Epoch 56/100\n",
      "14/14 [==============================] - 8s 542ms/step - loss: 0.1607 - accuracy: 0.9409 - val_loss: 0.1910 - val_accuracy: 0.9371\n",
      "Epoch 57/100\n",
      "14/14 [==============================] - 7s 527ms/step - loss: 0.2695 - accuracy: 0.9243 - val_loss: 1.1760 - val_accuracy: 0.8392\n",
      "Epoch 58/100\n",
      "14/14 [==============================] - 8s 539ms/step - loss: 0.1669 - accuracy: 0.9338 - val_loss: 1.3306 - val_accuracy: 0.8182\n",
      "Epoch 59/100\n",
      "14/14 [==============================] - 7s 518ms/step - loss: 0.4685 - accuracy: 0.8913 - val_loss: 0.5916 - val_accuracy: 0.8741\n",
      "Epoch 60/100\n",
      "14/14 [==============================] - 7s 515ms/step - loss: 0.3694 - accuracy: 0.9243 - val_loss: 0.4372 - val_accuracy: 0.8601\n",
      "Epoch 61/100\n",
      "14/14 [==============================] - 8s 530ms/step - loss: 0.4329 - accuracy: 0.9125 - val_loss: 0.3825 - val_accuracy: 0.8741\n",
      "Epoch 62/100\n",
      "14/14 [==============================] - 7s 521ms/step - loss: 0.4808 - accuracy: 0.9149 - val_loss: 0.3775 - val_accuracy: 0.9091\n",
      "Epoch 63/100\n",
      "14/14 [==============================] - 7s 516ms/step - loss: 0.3156 - accuracy: 0.9196 - val_loss: 0.6017 - val_accuracy: 0.8741\n",
      "Epoch 64/100\n",
      "14/14 [==============================] - 7s 526ms/step - loss: 0.1092 - accuracy: 0.9693 - val_loss: 0.4516 - val_accuracy: 0.8951\n",
      "Epoch 65/100\n",
      "14/14 [==============================] - 8s 541ms/step - loss: 0.1262 - accuracy: 0.9622 - val_loss: 0.7992 - val_accuracy: 0.8531\n",
      "Epoch 66/100\n",
      "14/14 [==============================] - 8s 530ms/step - loss: 0.5856 - accuracy: 0.8582 - val_loss: 0.6106 - val_accuracy: 0.8462\n",
      "Epoch 67/100\n",
      "14/14 [==============================] - 7s 523ms/step - loss: 0.1439 - accuracy: 0.9551 - val_loss: 1.1171 - val_accuracy: 0.8531\n",
      "Epoch 68/100\n",
      "14/14 [==============================] - 8s 540ms/step - loss: 0.3672 - accuracy: 0.9102 - val_loss: 0.8383 - val_accuracy: 0.8322\n",
      "Epoch 69/100\n",
      "14/14 [==============================] - 8s 538ms/step - loss: 0.1743 - accuracy: 0.9456 - val_loss: 0.1787 - val_accuracy: 0.9510\n",
      "Epoch 70/100\n",
      "14/14 [==============================] - 8s 538ms/step - loss: 0.0834 - accuracy: 0.9764 - val_loss: 1.8912 - val_accuracy: 0.8112\n",
      "Epoch 71/100\n",
      "14/14 [==============================] - 7s 510ms/step - loss: 0.3086 - accuracy: 0.9196 - val_loss: 0.7130 - val_accuracy: 0.8601\n",
      "Epoch 72/100\n",
      "14/14 [==============================] - 8s 535ms/step - loss: 0.3236 - accuracy: 0.8983 - val_loss: 1.1039 - val_accuracy: 0.8392\n",
      "Epoch 73/100\n",
      "14/14 [==============================] - 7s 514ms/step - loss: 0.5139 - accuracy: 0.9078 - val_loss: 0.6819 - val_accuracy: 0.7972\n",
      "Epoch 74/100\n",
      "14/14 [==============================] - 8s 553ms/step - loss: 0.2292 - accuracy: 0.9267 - val_loss: 0.8597 - val_accuracy: 0.8741\n",
      "Epoch 75/100\n",
      "14/14 [==============================] - 7s 513ms/step - loss: 0.2179 - accuracy: 0.9622 - val_loss: 2.4073 - val_accuracy: 0.7552\n",
      "Epoch 76/100\n",
      "14/14 [==============================] - 7s 522ms/step - loss: 0.5844 - accuracy: 0.9125 - val_loss: 0.8067 - val_accuracy: 0.8392\n",
      "Epoch 77/100\n",
      "14/14 [==============================] - 8s 533ms/step - loss: 0.2441 - accuracy: 0.9125 - val_loss: 0.6214 - val_accuracy: 0.9091\n",
      "Epoch 78/100\n",
      "14/14 [==============================] - 7s 521ms/step - loss: 0.5951 - accuracy: 0.8865 - val_loss: 0.5512 - val_accuracy: 0.8881\n",
      "Epoch 79/100\n",
      "14/14 [==============================] - 8s 548ms/step - loss: 0.0988 - accuracy: 0.9669 - val_loss: 0.5310 - val_accuracy: 0.8811\n",
      "Epoch 80/100\n",
      "14/14 [==============================] - 7s 524ms/step - loss: 0.2128 - accuracy: 0.9314 - val_loss: 0.6331 - val_accuracy: 0.8811\n",
      "Epoch 81/100\n",
      "14/14 [==============================] - 8s 550ms/step - loss: 0.1539 - accuracy: 0.9527 - val_loss: 1.0861 - val_accuracy: 0.8531\n",
      "Epoch 82/100\n",
      "14/14 [==============================] - 8s 556ms/step - loss: 0.5087 - accuracy: 0.8629 - val_loss: 0.7530 - val_accuracy: 0.8392\n",
      "Epoch 83/100\n",
      "14/14 [==============================] - 8s 568ms/step - loss: 0.1520 - accuracy: 0.9527 - val_loss: 0.6580 - val_accuracy: 0.8741\n",
      "Epoch 84/100\n",
      "14/14 [==============================] - 8s 601ms/step - loss: 0.3348 - accuracy: 0.9102 - val_loss: 0.9955 - val_accuracy: 0.8392\n",
      "Epoch 85/100\n",
      "14/14 [==============================] - 8s 610ms/step - loss: 0.1806 - accuracy: 0.9622 - val_loss: 0.9439 - val_accuracy: 0.8392\n",
      "Epoch 86/100\n",
      "14/14 [==============================] - 8s 536ms/step - loss: 0.3810 - accuracy: 0.9243 - val_loss: 2.7762 - val_accuracy: 0.7483\n",
      "Epoch 87/100\n",
      "14/14 [==============================] - 8s 568ms/step - loss: 0.2995 - accuracy: 0.9054 - val_loss: 0.5150 - val_accuracy: 0.8811\n",
      "Epoch 88/100\n",
      "14/14 [==============================] - 8s 539ms/step - loss: 0.2924 - accuracy: 0.9362 - val_loss: 0.4869 - val_accuracy: 0.9021\n",
      "Epoch 89/100\n",
      "14/14 [==============================] - 8s 546ms/step - loss: 0.0352 - accuracy: 0.9905 - val_loss: 1.7375 - val_accuracy: 0.8322\n",
      "Epoch 90/100\n",
      "14/14 [==============================] - 8s 582ms/step - loss: 0.6144 - accuracy: 0.8700 - val_loss: 0.9642 - val_accuracy: 0.8531\n",
      "Epoch 91/100\n",
      "14/14 [==============================] - 8s 553ms/step - loss: 0.1464 - accuracy: 0.9669 - val_loss: 0.1088 - val_accuracy: 0.9580\n",
      "Epoch 92/100\n",
      "14/14 [==============================] - 8s 567ms/step - loss: 0.2961 - accuracy: 0.9314 - val_loss: 2.9768 - val_accuracy: 0.7343\n",
      "Epoch 93/100\n",
      "14/14 [==============================] - 8s 548ms/step - loss: 0.4506 - accuracy: 0.9196 - val_loss: 2.7849 - val_accuracy: 0.7972\n",
      "Epoch 94/100\n",
      "14/14 [==============================] - 7s 504ms/step - loss: 0.1771 - accuracy: 0.9504 - val_loss: 0.1194 - val_accuracy: 0.9510\n",
      "Epoch 95/100\n",
      "14/14 [==============================] - 8s 556ms/step - loss: 0.1600 - accuracy: 0.9551 - val_loss: 0.6399 - val_accuracy: 0.8531\n",
      "Epoch 96/100\n",
      "14/14 [==============================] - 8s 534ms/step - loss: 0.2949 - accuracy: 0.9220 - val_loss: 0.7488 - val_accuracy: 0.8601\n",
      "Epoch 97/100\n",
      "14/14 [==============================] - 8s 548ms/step - loss: 0.2166 - accuracy: 0.9456 - val_loss: 0.2011 - val_accuracy: 0.9371\n",
      "Epoch 98/100\n",
      "14/14 [==============================] - 7s 515ms/step - loss: 0.1940 - accuracy: 0.9480 - val_loss: 0.7796 - val_accuracy: 0.8531\n",
      "Epoch 99/100\n",
      "14/14 [==============================] - 8s 584ms/step - loss: 0.5077 - accuracy: 0.9456 - val_loss: 0.7718 - val_accuracy: 0.8881\n",
      "Epoch 100/100\n",
      "14/14 [==============================] - 8s 565ms/step - loss: 0.1741 - accuracy: 0.9480 - val_loss: 0.5528 - val_accuracy: 0.9021\n"
     ]
    },
    {
     "data": {
      "text/plain": [
       "<tensorflow.python.keras.callbacks.History at 0x2af135afac0>"
      ]
     },
     "execution_count": 38,
     "metadata": {},
     "output_type": "execute_result"
    }
   ],
   "source": [
    "model.fit_generator(x_train,steps_per_epoch = 14 , epochs = 100, validation_data = x_test,validation_steps = 5 )"
   ]
  },
  {
   "cell_type": "markdown",
   "id": "8ecba209",
   "metadata": {},
   "source": [
    "### Saving the model"
   ]
  },
  {
   "cell_type": "code",
   "execution_count": 32,
   "id": "2e8ef3ab",
   "metadata": {},
   "outputs": [],
   "source": [
    "model.save('edibility.h5')"
   ]
  },
  {
   "cell_type": "markdown",
   "id": "2df71050",
   "metadata": {},
   "source": [
    "## TESTING THE MODEL"
   ]
  },
  {
   "cell_type": "markdown",
   "id": "f7077d1e",
   "metadata": {},
   "source": [
    "### Loading model for prediction "
   ]
  },
  {
   "cell_type": "code",
   "execution_count": 33,
   "id": "9f78f712",
   "metadata": {},
   "outputs": [],
   "source": [
    "model = load_model(\"edibility.h5\")"
   ]
  },
  {
   "cell_type": "markdown",
   "id": "227cc7a6",
   "metadata": {},
   "source": [
    "### Predicting the results"
   ]
  },
  {
   "cell_type": "code",
   "execution_count": 34,
   "id": "f89d5ff5",
   "metadata": {},
   "outputs": [
    {
     "name": "stderr",
     "output_type": "stream",
     "text": [
      "C:\\Users\\Sneha\\VIT\\lib\\site-packages\\tensorflow\\python\\keras\\engine\\sequential.py:455: UserWarning: `model.predict_classes()` is deprecated and will be removed after 2021-01-01. Please use instead:* `np.argmax(model.predict(x), axis=-1)`,   if your model does multi-class classification   (e.g. if it uses a `softmax` last-layer activation).* `(model.predict(x) > 0.5).astype(\"int32\")`,   if your model does binary classification   (e.g. if it uses a `sigmoid` last-layer activation).\n",
      "  warnings.warn('`model.predict_classes()` is deprecated and '\n"
     ]
    },
    {
     "data": {
      "text/plain": [
       "array([4], dtype=int64)"
      ]
     },
     "execution_count": 34,
     "metadata": {},
     "output_type": "execute_result"
    }
   ],
   "source": [
    "img = image.load_img(r\"C:\\Users\\Sneha\\Downloads\\download (7).jpg\",\n",
    "                     target_size=(64,64))\n",
    "x = image.img_to_array(img)\n",
    "x = np.expand_dims(x,axis=0)\n",
    "pred = model.predict_classes(x)\n",
    "pred"
   ]
  },
  {
   "cell_type": "code",
   "execution_count": 35,
   "id": "fea4050a",
   "metadata": {},
   "outputs": [
    {
     "data": {
      "text/plain": [
       "'Fireweed_edible_non edible'"
      ]
     },
     "execution_count": 35,
     "metadata": {},
     "output_type": "execute_result"
    }
   ],
   "source": [
    "index=['Asparagus_edible','Blue Vervain_edible','Cattail_edible',\n",
    "       'Chicory_edible_non edible','Fireweed_edible_non edible', \n",
    "       'green castor bean_non edible']\n",
    "result = str(index[pred[0]])\n",
    "result"
   ]
  },
  {
   "cell_type": "code",
   "execution_count": 36,
   "id": "23ee5217",
   "metadata": {},
   "outputs": [
    {
     "data": {
      "text/plain": [
       "array([2], dtype=int64)"
      ]
     },
     "execution_count": 36,
     "metadata": {},
     "output_type": "execute_result"
    }
   ],
   "source": [
    "img = image.load_img(r\"C:\\Users\\Sneha\\Downloads\\download (8).jpg\",\n",
    "                     target_size=(64,64))\n",
    "x = image.img_to_array(img)\n",
    "x = np.expand_dims(x,axis=0)\n",
    "pred = model.predict_classes(x)\n",
    "pred"
   ]
  },
  {
   "cell_type": "code",
   "execution_count": 37,
   "id": "02edcc35",
   "metadata": {},
   "outputs": [
    {
     "data": {
      "text/plain": [
       "'Cattail_edible'"
      ]
     },
     "execution_count": 37,
     "metadata": {},
     "output_type": "execute_result"
    }
   ],
   "source": [
    "index=['Asparagus_edible','Blue Vervain_edible','Cattail_edible',\n",
    "       'Chicory_edible_non edible','Fireweed_edible_non edible', \n",
    "       'green castor bean_non edible']\n",
    "result = str(index[pred[0]])\n",
    "result"
   ]
  }
 ],
 "metadata": {
  "kernelspec": {
   "display_name": "Python 3",
   "language": "python",
   "name": "python3"
  },
  "language_info": {
   "codemirror_mode": {
    "name": "ipython",
    "version": 3
   },
   "file_extension": ".py",
   "mimetype": "text/x-python",
   "name": "python",
   "nbconvert_exporter": "python",
   "pygments_lexer": "ipython3",
   "version": "3.8.8"
  }
 },
 "nbformat": 4,
 "nbformat_minor": 5
}
